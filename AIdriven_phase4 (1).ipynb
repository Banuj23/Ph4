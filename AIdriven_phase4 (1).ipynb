{
 "cells": [
  {
   "cell_type": "code",
   "execution_count": 131,
   "id": "c4485556-9f49-41d8-ae27-da6f2cd09925",
   "metadata": {},
   "outputs": [],
   "source": [
    "import pandas as pd \n",
    "import matplotlib.pyplot as plt \n",
    "import seaborn as sns \n",
    "import numpy as np\n",
    "from sklearn.model_selection import train_test_split \n",
    "from sklearn.linear_model import LinearRegression \n",
    "from sklearn import metrics \n",
    "from sklearn import datasets\n",
    "from sklearn.metrics import r2_score\n"
   ]
  },
  {
   "cell_type": "code",
   "execution_count": 132,
   "id": "861f1775-973c-4a82-998a-a420ad400e32",
   "metadata": {},
   "outputs": [
    {
     "name": "stderr",
     "output_type": "stream",
     "text": [
      "C:\\Users\\Admin\\AppData\\Local\\Temp\\ipykernel_18936\\1592979975.py:1: DtypeWarning: Columns (9) have mixed types. Specify dtype option on import or set low_memory=False.\n",
      "  df=pd.read_csv('D:\\Data_Gov_Tamil_Nadu1.csv',encoding='latin-1')\n"
     ]
    }
   ],
   "source": [
    "df=pd.read_csv('D:\\GODWIN\\Data_Gov_Tamil_Nadu1.csv',encoding='latin-1')"
   ]
  },
  {
   "cell_type": "code",
   "execution_count": 133,
   "id": "49c77776-c1f3-45fa-af7b-a02a67b64b13",
   "metadata": {},
   "outputs": [
    {
     "data": {
      "text/html": [
       "<div>\n",
       "<style scoped>\n",
       "    .dataframe tbody tr th:only-of-type {\n",
       "        vertical-align: middle;\n",
       "    }\n",
       "\n",
       "    .dataframe tbody tr th {\n",
       "        vertical-align: top;\n",
       "    }\n",
       "\n",
       "    .dataframe thead th {\n",
       "        text-align: right;\n",
       "    }\n",
       "</style>\n",
       "<table border=\"1\" class=\"dataframe\">\n",
       "  <thead>\n",
       "    <tr style=\"text-align: right;\">\n",
       "      <th></th>\n",
       "      <th>CORPORATE_IDENTIFICATION_NUMBER</th>\n",
       "      <th>COMPANY_STATUS</th>\n",
       "      <th>COMPANY_CLASS</th>\n",
       "      <th>COMPANY_CATEGORY</th>\n",
       "      <th>COMPANY_SUB_CATEGORY</th>\n",
       "      <th>DATE_OF_REGISTRATION</th>\n",
       "      <th>REGISTERED_STATE</th>\n",
       "      <th>AUTHORIZED_CAP</th>\n",
       "      <th>PAIDUP_CAPITAL</th>\n",
       "      <th>INDUSTRIAL_CLASS</th>\n",
       "      <th>PRINCIPAL_BUSINESS_ACTIVITY_AS_PER_CIN</th>\n",
       "      <th>REGISTERED_OFFICE_ADDRESS</th>\n",
       "      <th>REGISTRAR_OF_COMPANIES</th>\n",
       "      <th>EMAIL_ADDR</th>\n",
       "      <th>LATEST_YEAR_ANNUAL_RETURN</th>\n",
       "      <th>LATEST_YEAR_FINANCIAL_STATEMENT</th>\n",
       "    </tr>\n",
       "  </thead>\n",
       "  <tbody>\n",
       "    <tr>\n",
       "      <th>0</th>\n",
       "      <td>643.000</td>\n",
       "      <td>NAEF</td>\n",
       "      <td>NaN</td>\n",
       "      <td>NaN</td>\n",
       "      <td>NaN</td>\n",
       "      <td>01-12-1961</td>\n",
       "      <td>Tamil Nadu</td>\n",
       "      <td>0.0</td>\n",
       "      <td>0.0</td>\n",
       "      <td>NaN</td>\n",
       "      <td>Agriculture &amp; allied</td>\n",
       "      <td>AMBLE SIDE, NO.8(OLD NO.30),3RD FLOOR KHADER N...</td>\n",
       "      <td>ROC DELHI</td>\n",
       "      <td>NaN</td>\n",
       "      <td>NaN</td>\n",
       "      <td>NaN</td>\n",
       "    </tr>\n",
       "    <tr>\n",
       "      <th>1</th>\n",
       "      <td>721.000</td>\n",
       "      <td>ACTV</td>\n",
       "      <td>NaN</td>\n",
       "      <td>NaN</td>\n",
       "      <td>NaN</td>\n",
       "      <td>NaN</td>\n",
       "      <td>Tamil Nadu</td>\n",
       "      <td>0.0</td>\n",
       "      <td>0.0</td>\n",
       "      <td>NaN</td>\n",
       "      <td>Agriculture &amp; allied</td>\n",
       "      <td>FLAT NO. 6, 1st FLOOR, 113/113ARAMA NAICKEN ST...</td>\n",
       "      <td>ROC DELHI</td>\n",
       "      <td>shuchi.chug@asa.in</td>\n",
       "      <td>NaN</td>\n",
       "      <td>NaN</td>\n",
       "    </tr>\n",
       "    <tr>\n",
       "      <th>2</th>\n",
       "      <td>892.000</td>\n",
       "      <td>ACTV</td>\n",
       "      <td>NaN</td>\n",
       "      <td>NaN</td>\n",
       "      <td>NaN</td>\n",
       "      <td>01-03-1982</td>\n",
       "      <td>Tamil Nadu</td>\n",
       "      <td>0.0</td>\n",
       "      <td>0.0</td>\n",
       "      <td>NaN</td>\n",
       "      <td>Agriculture &amp; allied</td>\n",
       "      <td>SRILANKAN AIRLINES LIMITED, VIJAYA TOWERSNO-4,...</td>\n",
       "      <td>ROC DELHI</td>\n",
       "      <td>shree16us@yahoo.com</td>\n",
       "      <td>NaN</td>\n",
       "      <td>NaN</td>\n",
       "    </tr>\n",
       "    <tr>\n",
       "      <th>3</th>\n",
       "      <td>1208.000</td>\n",
       "      <td>NAEF</td>\n",
       "      <td>NaN</td>\n",
       "      <td>NaN</td>\n",
       "      <td>NaN</td>\n",
       "      <td>NaN</td>\n",
       "      <td>Tamil Nadu</td>\n",
       "      <td>0.0</td>\n",
       "      <td>0.0</td>\n",
       "      <td>NaN</td>\n",
       "      <td>Agriculture &amp; allied</td>\n",
       "      <td>GOLD CREST 24 55 NORTHUSMAN ROAD T NAGAR</td>\n",
       "      <td>ROC DELHI</td>\n",
       "      <td>NaN</td>\n",
       "      <td>NaN</td>\n",
       "      <td>NaN</td>\n",
       "    </tr>\n",
       "    <tr>\n",
       "      <th>4</th>\n",
       "      <td>1218.000</td>\n",
       "      <td>ACTV</td>\n",
       "      <td>NaN</td>\n",
       "      <td>NaN</td>\n",
       "      <td>NaN</td>\n",
       "      <td>NaN</td>\n",
       "      <td>Tamil Nadu</td>\n",
       "      <td>0.0</td>\n",
       "      <td>0.0</td>\n",
       "      <td>NaN</td>\n",
       "      <td>Agriculture &amp; allied</td>\n",
       "      <td>FF-3 Palani  Centre32 Venkat Naryan Road Nagar</td>\n",
       "      <td>ROC DELHI</td>\n",
       "      <td>karthick9999@yahoo.com</td>\n",
       "      <td>NaN</td>\n",
       "      <td>NaN</td>\n",
       "    </tr>\n",
       "  </tbody>\n",
       "</table>\n",
       "</div>"
      ],
      "text/plain": [
       "  CORPORATE_IDENTIFICATION_NUMBER COMPANY_STATUS COMPANY_CLASS  \\\n",
       "0                         643.000           NAEF           NaN   \n",
       "1                         721.000           ACTV           NaN   \n",
       "2                         892.000           ACTV           NaN   \n",
       "3                        1208.000           NAEF           NaN   \n",
       "4                        1218.000           ACTV           NaN   \n",
       "\n",
       "  COMPANY_CATEGORY COMPANY_SUB_CATEGORY DATE_OF_REGISTRATION REGISTERED_STATE  \\\n",
       "0              NaN                  NaN           01-12-1961       Tamil Nadu   \n",
       "1              NaN                  NaN                  NaN       Tamil Nadu   \n",
       "2              NaN                  NaN           01-03-1982       Tamil Nadu   \n",
       "3              NaN                  NaN                  NaN       Tamil Nadu   \n",
       "4              NaN                  NaN                  NaN       Tamil Nadu   \n",
       "\n",
       "   AUTHORIZED_CAP  PAIDUP_CAPITAL INDUSTRIAL_CLASS  \\\n",
       "0             0.0             0.0              NaN   \n",
       "1             0.0             0.0              NaN   \n",
       "2             0.0             0.0              NaN   \n",
       "3             0.0             0.0              NaN   \n",
       "4             0.0             0.0              NaN   \n",
       "\n",
       "  PRINCIPAL_BUSINESS_ACTIVITY_AS_PER_CIN  \\\n",
       "0                   Agriculture & allied   \n",
       "1                   Agriculture & allied   \n",
       "2                   Agriculture & allied   \n",
       "3                   Agriculture & allied   \n",
       "4                   Agriculture & allied   \n",
       "\n",
       "                           REGISTERED_OFFICE_ADDRESS REGISTRAR_OF_COMPANIES  \\\n",
       "0  AMBLE SIDE, NO.8(OLD NO.30),3RD FLOOR KHADER N...              ROC DELHI   \n",
       "1  FLAT NO. 6, 1st FLOOR, 113/113ARAMA NAICKEN ST...              ROC DELHI   \n",
       "2  SRILANKAN AIRLINES LIMITED, VIJAYA TOWERSNO-4,...              ROC DELHI   \n",
       "3         GOLD CREST 24 55 NORTHUSMAN ROAD T NAGAR                ROC DELHI   \n",
       "4   FF-3 Palani  Centre32 Venkat Naryan Road Nagar                ROC DELHI   \n",
       "\n",
       "               EMAIL_ADDR LATEST_YEAR_ANNUAL_RETURN  \\\n",
       "0                     NaN                       NaN   \n",
       "1      shuchi.chug@asa.in                       NaN   \n",
       "2     shree16us@yahoo.com                       NaN   \n",
       "3                     NaN                       NaN   \n",
       "4  karthick9999@yahoo.com                       NaN   \n",
       "\n",
       "  LATEST_YEAR_FINANCIAL_STATEMENT  \n",
       "0                             NaN  \n",
       "1                             NaN  \n",
       "2                             NaN  \n",
       "3                             NaN  \n",
       "4                             NaN  "
      ]
     },
     "execution_count": 133,
     "metadata": {},
     "output_type": "execute_result"
    }
   ],
   "source": [
    "df.head()"
   ]
  },
  {
   "cell_type": "code",
   "execution_count": 134,
   "id": "32dc9be4-0541-48a7-9223-664f177c4412",
   "metadata": {},
   "outputs": [
    {
     "name": "stdout",
     "output_type": "stream",
     "text": [
      "<class 'pandas.core.frame.DataFrame'>\n",
      "RangeIndex: 150871 entries, 0 to 150870\n",
      "Data columns (total 16 columns):\n",
      " #   Column                                  Non-Null Count   Dtype  \n",
      "---  ------                                  --------------   -----  \n",
      " 0   CORPORATE_IDENTIFICATION_NUMBER         150871 non-null  object \n",
      " 1   COMPANY_STATUS                          150871 non-null  object \n",
      " 2   COMPANY_CLASS                           150537 non-null  object \n",
      " 3   COMPANY_CATEGORY                        150537 non-null  object \n",
      " 4   COMPANY_SUB_CATEGORY                    150537 non-null  object \n",
      " 5   DATE_OF_REGISTRATION                    150832 non-null  object \n",
      " 6   REGISTERED_STATE                        150871 non-null  object \n",
      " 7   AUTHORIZED_CAP                          150871 non-null  float64\n",
      " 8   PAIDUP_CAPITAL                          150871 non-null  float64\n",
      " 9   INDUSTRIAL_CLASS                        150561 non-null  object \n",
      " 10  PRINCIPAL_BUSINESS_ACTIVITY_AS_PER_CIN  150871 non-null  object \n",
      " 11  REGISTERED_OFFICE_ADDRESS               150781 non-null  object \n",
      " 12  REGISTRAR_OF_COMPANIES                  150697 non-null  object \n",
      " 13  EMAIL_ADDR                              112742 non-null  object \n",
      " 14  LATEST_YEAR_ANNUAL_RETURN               74982 non-null   object \n",
      " 15  LATEST_YEAR_FINANCIAL_STATEMENT         75089 non-null   object \n",
      "dtypes: float64(2), object(14)\n",
      "memory usage: 18.4+ MB\n"
     ]
    }
   ],
   "source": [
    "df.info() "
   ]
  },
  {
   "cell_type": "code",
   "execution_count": 135,
   "id": "4838965c-c4f5-4846-a363-f7683a5af0be",
   "metadata": {},
   "outputs": [
    {
     "data": {
      "text/html": [
       "<div>\n",
       "<style scoped>\n",
       "    .dataframe tbody tr th:only-of-type {\n",
       "        vertical-align: middle;\n",
       "    }\n",
       "\n",
       "    .dataframe tbody tr th {\n",
       "        vertical-align: top;\n",
       "    }\n",
       "\n",
       "    .dataframe thead th {\n",
       "        text-align: right;\n",
       "    }\n",
       "</style>\n",
       "<table border=\"1\" class=\"dataframe\">\n",
       "  <thead>\n",
       "    <tr style=\"text-align: right;\">\n",
       "      <th></th>\n",
       "      <th>CORPORATE_IDENTIFICATION_NUMBER</th>\n",
       "      <th>COMPANY_STATUS</th>\n",
       "      <th>COMPANY_CLASS</th>\n",
       "      <th>COMPANY_CATEGORY</th>\n",
       "      <th>COMPANY_SUB_CATEGORY</th>\n",
       "      <th>DATE_OF_REGISTRATION</th>\n",
       "      <th>REGISTERED_STATE</th>\n",
       "      <th>AUTHORIZED_CAP</th>\n",
       "      <th>PAIDUP_CAPITAL</th>\n",
       "      <th>INDUSTRIAL_CLASS</th>\n",
       "      <th>PRINCIPAL_BUSINESS_ACTIVITY_AS_PER_CIN</th>\n",
       "      <th>REGISTERED_OFFICE_ADDRESS</th>\n",
       "      <th>REGISTRAR_OF_COMPANIES</th>\n",
       "      <th>EMAIL_ADDR</th>\n",
       "      <th>LATEST_YEAR_ANNUAL_RETURN</th>\n",
       "      <th>LATEST_YEAR_FINANCIAL_STATEMENT</th>\n",
       "    </tr>\n",
       "  </thead>\n",
       "  <tbody>\n",
       "    <tr>\n",
       "      <th>0</th>\n",
       "      <td>643.000</td>\n",
       "      <td>NAEF</td>\n",
       "      <td>NaN</td>\n",
       "      <td>NaN</td>\n",
       "      <td>NaN</td>\n",
       "      <td>01-12-1961</td>\n",
       "      <td>Tamil Nadu</td>\n",
       "      <td>0.0</td>\n",
       "      <td>0.0</td>\n",
       "      <td>NaN</td>\n",
       "      <td>Agriculture &amp; allied</td>\n",
       "      <td>AMBLE SIDE, NO.8(OLD NO.30),3RD FLOOR KHADER N...</td>\n",
       "      <td>ROC DELHI</td>\n",
       "      <td>NaN</td>\n",
       "      <td>NaN</td>\n",
       "      <td>NaN</td>\n",
       "    </tr>\n",
       "    <tr>\n",
       "      <th>1</th>\n",
       "      <td>721.000</td>\n",
       "      <td>ACTV</td>\n",
       "      <td>NaN</td>\n",
       "      <td>NaN</td>\n",
       "      <td>NaN</td>\n",
       "      <td>NaN</td>\n",
       "      <td>Tamil Nadu</td>\n",
       "      <td>0.0</td>\n",
       "      <td>0.0</td>\n",
       "      <td>NaN</td>\n",
       "      <td>Agriculture &amp; allied</td>\n",
       "      <td>FLAT NO. 6, 1st FLOOR, 113/113ARAMA NAICKEN ST...</td>\n",
       "      <td>ROC DELHI</td>\n",
       "      <td>shuchi.chug@asa.in</td>\n",
       "      <td>NaN</td>\n",
       "      <td>NaN</td>\n",
       "    </tr>\n",
       "    <tr>\n",
       "      <th>2</th>\n",
       "      <td>892.000</td>\n",
       "      <td>ACTV</td>\n",
       "      <td>NaN</td>\n",
       "      <td>NaN</td>\n",
       "      <td>NaN</td>\n",
       "      <td>01-03-1982</td>\n",
       "      <td>Tamil Nadu</td>\n",
       "      <td>0.0</td>\n",
       "      <td>0.0</td>\n",
       "      <td>NaN</td>\n",
       "      <td>Agriculture &amp; allied</td>\n",
       "      <td>SRILANKAN AIRLINES LIMITED, VIJAYA TOWERSNO-4,...</td>\n",
       "      <td>ROC DELHI</td>\n",
       "      <td>shree16us@yahoo.com</td>\n",
       "      <td>NaN</td>\n",
       "      <td>NaN</td>\n",
       "    </tr>\n",
       "    <tr>\n",
       "      <th>3</th>\n",
       "      <td>1208.000</td>\n",
       "      <td>NAEF</td>\n",
       "      <td>NaN</td>\n",
       "      <td>NaN</td>\n",
       "      <td>NaN</td>\n",
       "      <td>NaN</td>\n",
       "      <td>Tamil Nadu</td>\n",
       "      <td>0.0</td>\n",
       "      <td>0.0</td>\n",
       "      <td>NaN</td>\n",
       "      <td>Agriculture &amp; allied</td>\n",
       "      <td>GOLD CREST 24 55 NORTHUSMAN ROAD T NAGAR</td>\n",
       "      <td>ROC DELHI</td>\n",
       "      <td>NaN</td>\n",
       "      <td>NaN</td>\n",
       "      <td>NaN</td>\n",
       "    </tr>\n",
       "    <tr>\n",
       "      <th>4</th>\n",
       "      <td>1218.000</td>\n",
       "      <td>ACTV</td>\n",
       "      <td>NaN</td>\n",
       "      <td>NaN</td>\n",
       "      <td>NaN</td>\n",
       "      <td>NaN</td>\n",
       "      <td>Tamil Nadu</td>\n",
       "      <td>0.0</td>\n",
       "      <td>0.0</td>\n",
       "      <td>NaN</td>\n",
       "      <td>Agriculture &amp; allied</td>\n",
       "      <td>FF-3 Palani  Centre32 Venkat Naryan Road Nagar</td>\n",
       "      <td>ROC DELHI</td>\n",
       "      <td>karthick9999@yahoo.com</td>\n",
       "      <td>NaN</td>\n",
       "      <td>NaN</td>\n",
       "    </tr>\n",
       "  </tbody>\n",
       "</table>\n",
       "</div>"
      ],
      "text/plain": [
       "  CORPORATE_IDENTIFICATION_NUMBER COMPANY_STATUS COMPANY_CLASS  \\\n",
       "0                         643.000           NAEF           NaN   \n",
       "1                         721.000           ACTV           NaN   \n",
       "2                         892.000           ACTV           NaN   \n",
       "3                        1208.000           NAEF           NaN   \n",
       "4                        1218.000           ACTV           NaN   \n",
       "\n",
       "  COMPANY_CATEGORY COMPANY_SUB_CATEGORY DATE_OF_REGISTRATION REGISTERED_STATE  \\\n",
       "0              NaN                  NaN           01-12-1961       Tamil Nadu   \n",
       "1              NaN                  NaN                  NaN       Tamil Nadu   \n",
       "2              NaN                  NaN           01-03-1982       Tamil Nadu   \n",
       "3              NaN                  NaN                  NaN       Tamil Nadu   \n",
       "4              NaN                  NaN                  NaN       Tamil Nadu   \n",
       "\n",
       "   AUTHORIZED_CAP  PAIDUP_CAPITAL INDUSTRIAL_CLASS  \\\n",
       "0             0.0             0.0              NaN   \n",
       "1             0.0             0.0              NaN   \n",
       "2             0.0             0.0              NaN   \n",
       "3             0.0             0.0              NaN   \n",
       "4             0.0             0.0              NaN   \n",
       "\n",
       "  PRINCIPAL_BUSINESS_ACTIVITY_AS_PER_CIN  \\\n",
       "0                   Agriculture & allied   \n",
       "1                   Agriculture & allied   \n",
       "2                   Agriculture & allied   \n",
       "3                   Agriculture & allied   \n",
       "4                   Agriculture & allied   \n",
       "\n",
       "                           REGISTERED_OFFICE_ADDRESS REGISTRAR_OF_COMPANIES  \\\n",
       "0  AMBLE SIDE, NO.8(OLD NO.30),3RD FLOOR KHADER N...              ROC DELHI   \n",
       "1  FLAT NO. 6, 1st FLOOR, 113/113ARAMA NAICKEN ST...              ROC DELHI   \n",
       "2  SRILANKAN AIRLINES LIMITED, VIJAYA TOWERSNO-4,...              ROC DELHI   \n",
       "3         GOLD CREST 24 55 NORTHUSMAN ROAD T NAGAR                ROC DELHI   \n",
       "4   FF-3 Palani  Centre32 Venkat Naryan Road Nagar                ROC DELHI   \n",
       "\n",
       "               EMAIL_ADDR LATEST_YEAR_ANNUAL_RETURN  \\\n",
       "0                     NaN                       NaN   \n",
       "1      shuchi.chug@asa.in                       NaN   \n",
       "2     shree16us@yahoo.com                       NaN   \n",
       "3                     NaN                       NaN   \n",
       "4  karthick9999@yahoo.com                       NaN   \n",
       "\n",
       "  LATEST_YEAR_FINANCIAL_STATEMENT  \n",
       "0                             NaN  \n",
       "1                             NaN  \n",
       "2                             NaN  \n",
       "3                             NaN  \n",
       "4                             NaN  "
      ]
     },
     "execution_count": 135,
     "metadata": {},
     "output_type": "execute_result"
    }
   ],
   "source": [
    "df.head()"
   ]
  },
  {
   "cell_type": "code",
   "execution_count": 136,
   "id": "6a4408eb-0d1b-4649-ba4d-11251783de54",
   "metadata": {},
   "outputs": [
    {
     "data": {
      "text/plain": [
       "dtype('O')"
      ]
     },
     "execution_count": 136,
     "metadata": {},
     "output_type": "execute_result"
    }
   ],
   "source": [
    "df.CORPORATE_IDENTIFICATION_NUMBER.dtype"
   ]
  },
  {
   "cell_type": "code",
   "execution_count": 137,
   "id": "29ff795d-6f8d-4251-abfd-9088974e0fe8",
   "metadata": {},
   "outputs": [
    {
     "name": "stdout",
     "output_type": "stream",
     "text": [
      "<class 'pandas.core.frame.DataFrame'>\n",
      "RangeIndex: 150871 entries, 0 to 150870\n",
      "Data columns (total 16 columns):\n",
      " #   Column                                  Non-Null Count   Dtype  \n",
      "---  ------                                  --------------   -----  \n",
      " 0   CORPORATE_IDENTIFICATION_NUMBER         150871 non-null  object \n",
      " 1   COMPANY_STATUS                          150871 non-null  object \n",
      " 2   COMPANY_CLASS                           150537 non-null  object \n",
      " 3   COMPANY_CATEGORY                        150537 non-null  object \n",
      " 4   COMPANY_SUB_CATEGORY                    150537 non-null  object \n",
      " 5   DATE_OF_REGISTRATION                    150832 non-null  object \n",
      " 6   REGISTERED_STATE                        150871 non-null  object \n",
      " 7   AUTHORIZED_CAP                          150871 non-null  float64\n",
      " 8   PAIDUP_CAPITAL                          150871 non-null  float64\n",
      " 9   INDUSTRIAL_CLASS                        150561 non-null  object \n",
      " 10  PRINCIPAL_BUSINESS_ACTIVITY_AS_PER_CIN  150871 non-null  object \n",
      " 11  REGISTERED_OFFICE_ADDRESS               150781 non-null  object \n",
      " 12  REGISTRAR_OF_COMPANIES                  150697 non-null  object \n",
      " 13  EMAIL_ADDR                              112742 non-null  object \n",
      " 14  LATEST_YEAR_ANNUAL_RETURN               74982 non-null   object \n",
      " 15  LATEST_YEAR_FINANCIAL_STATEMENT         75089 non-null   object \n",
      "dtypes: float64(2), object(14)\n",
      "memory usage: 18.4+ MB\n"
     ]
    }
   ],
   "source": [
    "df.info()"
   ]
  },
  {
   "cell_type": "code",
   "execution_count": 140,
   "id": "4bbb3634-49f2-48c7-bcdb-f73820496fa6",
   "metadata": {},
   "outputs": [],
   "source": [
    "for i in df['CORPORATE_IDENTIFICATION_NUMBER']:\n",
    "    df['CORPORATE_IDENTIFICATION_NUMBER']=int(i)"
   ]
  },
  {
   "cell_type": "code",
   "execution_count": 141,
   "id": "a347e623-5cb7-46a1-b01b-70c9b3865eb0",
   "metadata": {},
   "outputs": [
    {
     "name": "stdout",
     "output_type": "stream",
     "text": [
      "<class 'pandas.core.frame.DataFrame'>\n",
      "RangeIndex: 150871 entries, 0 to 150870\n",
      "Data columns (total 16 columns):\n",
      " #   Column                                  Non-Null Count   Dtype  \n",
      "---  ------                                  --------------   -----  \n",
      " 0   CORPORATE_IDENTIFICATION_NUMBER         150871 non-null  int64  \n",
      " 1   COMPANY_STATUS                          150871 non-null  object \n",
      " 2   COMPANY_CLASS                           150537 non-null  object \n",
      " 3   COMPANY_CATEGORY                        150537 non-null  object \n",
      " 4   COMPANY_SUB_CATEGORY                    150537 non-null  object \n",
      " 5   DATE_OF_REGISTRATION                    150832 non-null  object \n",
      " 6   REGISTERED_STATE                        150871 non-null  object \n",
      " 7   AUTHORIZED_CAP                          150871 non-null  float64\n",
      " 8   PAIDUP_CAPITAL                          150871 non-null  float64\n",
      " 9   INDUSTRIAL_CLASS                        150561 non-null  object \n",
      " 10  PRINCIPAL_BUSINESS_ACTIVITY_AS_PER_CIN  150871 non-null  object \n",
      " 11  REGISTERED_OFFICE_ADDRESS               150781 non-null  object \n",
      " 12  REGISTRAR_OF_COMPANIES                  150697 non-null  object \n",
      " 13  EMAIL_ADDR                              112742 non-null  object \n",
      " 14  LATEST_YEAR_ANNUAL_RETURN               74982 non-null   object \n",
      " 15  LATEST_YEAR_FINANCIAL_STATEMENT         75089 non-null   object \n",
      "dtypes: float64(2), int64(1), object(13)\n",
      "memory usage: 18.4+ MB\n"
     ]
    }
   ],
   "source": [
    "df.info()"
   ]
  },
  {
   "cell_type": "code",
   "execution_count": 142,
   "id": "94307b3d-548b-4072-b347-f97e0fd264a5",
   "metadata": {},
   "outputs": [
    {
     "data": {
      "text/plain": [
       "pandas.core.frame.DataFrame"
      ]
     },
     "execution_count": 142,
     "metadata": {},
     "output_type": "execute_result"
    }
   ],
   "source": [
    "type(df)"
   ]
  },
  {
   "cell_type": "code",
   "execution_count": 143,
   "id": "36f6fea8-919c-4216-917c-40f550f885e4",
   "metadata": {},
   "outputs": [
    {
     "data": {
      "text/plain": [
       "Index(['CORPORATE_IDENTIFICATION_NUMBER', 'COMPANY_STATUS', 'COMPANY_CLASS',\n",
       "       'COMPANY_CATEGORY', 'COMPANY_SUB_CATEGORY', 'DATE_OF_REGISTRATION',\n",
       "       'REGISTERED_STATE', 'AUTHORIZED_CAP', 'PAIDUP_CAPITAL',\n",
       "       'INDUSTRIAL_CLASS', 'PRINCIPAL_BUSINESS_ACTIVITY_AS_PER_CIN',\n",
       "       'REGISTERED_OFFICE_ADDRESS', 'REGISTRAR_OF_COMPANIES', 'EMAIL_ADDR',\n",
       "       'LATEST_YEAR_ANNUAL_RETURN', 'LATEST_YEAR_FINANCIAL_STATEMENT'],\n",
       "      dtype='object')"
      ]
     },
     "execution_count": 143,
     "metadata": {},
     "output_type": "execute_result"
    }
   ],
   "source": [
    "df.keys()"
   ]
  },
  {
   "cell_type": "code",
   "execution_count": 144,
   "id": "0bfb82ae-4ad5-44ba-91c4-6b2d139b8ce5",
   "metadata": {},
   "outputs": [
    {
     "data": {
      "text/plain": [
       "(150871, 16)"
      ]
     },
     "execution_count": 144,
     "metadata": {},
     "output_type": "execute_result"
    }
   ],
   "source": [
    "df.shape"
   ]
  },
  {
   "cell_type": "code",
   "execution_count": 177,
   "id": "feca22c9-c172-436e-a1a2-f00692da4027",
   "metadata": {},
   "outputs": [
    {
     "data": {
      "text/plain": [
       "Text(0.5, 1.0, 'PAIDUP_CAPITAL vs CORPORATE_IDENTIFICATION_NUMBER')"
      ]
     },
     "execution_count": 177,
     "metadata": {},
     "output_type": "execute_result"
    },
    {
     "data": {
      "image/png": "[encoded data removed]",
      "text/plain": [
       "<Figure size 2000x2000 with 2 Axes>"
      ]
     },
     "metadata": {},
     "output_type": "display_data"
    }
   ],
   "source": [
    "plt.figure(figsize=(20,20))\n",
    "plt.subplot(321)\n",
    "sns.regplot(x = df[\"AUTHORIZED_CAP\"], y =df[\"CORPORATE_IDENTIFICATION_NUMBER\"], scatter_kws={\"color\" : \"blue\"}, line_kws={\"color\":\"red\"})\n",
    "plt.title(\"IAUTHORIZED_CAP vs CORPORATE_IDENTIFICATION_NUMBER\")\n",
    "\n",
    "plt.subplot(322)\n",
    "sns.regplot(x = df[\"PAIDUP_CAPITAL\"], y =df[\"CORPORATE_IDENTIFICATION_NUMBER\"], scatter_kws={\"color\" : \"green\"}, line_kws={\"color\":\"red\"})\n",
    "plt.title(\"PAIDUP_CAPITAL vs CORPORATE_IDENTIFICATION_NUMBER\")\n"
   ]
  },
  {
   "cell_type": "code",
   "execution_count": 267,
   "id": "07fea17c-6e2d-441c-b3c6-6a74eca3b010",
   "metadata": {},
   "outputs": [],
   "source": [
    "#MACHINE LEARNING\n",
    "#*********************************\n",
    "\n",
    "#**SPLIT DATA SET**"
   ]
  },
  {
   "cell_type": "code",
   "execution_count": 239,
   "id": "a55d31bc-9576-4539-b143-ae9ad1269844",
   "metadata": {},
   "outputs": [],
   "source": [
    "df1=df"
   ]
  },
  {
   "cell_type": "code",
   "execution_count": 240,
   "id": "96c792c2-e17d-447a-b6cb-a128ae2c4d3c",
   "metadata": {},
   "outputs": [],
   "source": [
    "from sklearn.model_selection import train_test_split\n",
    "X=df1['CORPORATE_IDENTIFICATION_NUMBER']\n",
    "Y=df1['CORPORATE_IDENTIFICATION_NUMBER']"
   ]
  },
  {
   "cell_type": "code",
   "execution_count": 241,
   "id": "2f7c6729-7434-4d2b-84d0-ed4e4007e0bc",
   "metadata": {},
   "outputs": [],
   "source": [
    "X=np.array(X)\n",
    "X=X.reshape(-1,1)"
   ]
  },
  {
   "cell_type": "code",
   "execution_count": 242,
   "id": "56afdd93-58a2-493b-a330-9866e6b4032c",
   "metadata": {},
   "outputs": [],
   "source": [
    "x_train,x_test,y_train,y_test=train_test_split(X,Y,test_size=0.2, random_state=5)"
   ]
  },
  {
   "cell_type": "code",
   "execution_count": 243,
   "id": "5d17982e-57f4-4545-8677-305c8d71e8f8",
   "metadata": {},
   "outputs": [
    {
     "data": {
      "text/plain": [
       "(120696, 1)"
      ]
     },
     "execution_count": 243,
     "metadata": {},
     "output_type": "execute_result"
    }
   ],
   "source": [
    "x_train.shape"
   ]
  },
  {
   "cell_type": "code",
   "execution_count": 244,
   "id": "70405e40-76a1-4766-8606-3393274e7ffc",
   "metadata": {},
   "outputs": [
    {
     "data": {
      "text/plain": [
       "(30175, 1)"
      ]
     },
     "execution_count": 244,
     "metadata": {},
     "output_type": "execute_result"
    }
   ],
   "source": [
    "x_test.shape"
   ]
  },
  {
   "cell_type": "code",
   "execution_count": 268,
   "id": "c7aa60ce-3a3b-4bae-9469-497dfe14e36b",
   "metadata": {},
   "outputs": [],
   "source": [
    "#NOW MACHINE LEARNING USING LINEAR REGRESSION\n",
    "#*****************************************\n",
    "#*****************************************"
   ]
  },
  {
   "cell_type": "code",
   "execution_count": 246,
   "id": "d6298a0f-cddf-437d-9981-0a0e3984d2eb",
   "metadata": {},
   "outputs": [],
   "source": [
    " #importing all the required functions\n",
    "from sklearn.linear_model import LinearRegression"
   ]
  },
  {
   "cell_type": "code",
   "execution_count": 247,
   "id": "51ff6206-9e4f-439b-a967-e9f1b7fb5d0d",
   "metadata": {},
   "outputs": [
    {
     "data": {
      "text/plain": [
       "LinearRegression()"
      ]
     },
     "execution_count": 247,
     "metadata": {},
     "output_type": "execute_result"
    }
   ],
   "source": [
    "#Building the Model\n",
    "lr=LinearRegression()\n",
    "lr.fit(x_train,y_train)"
   ]
  },
  {
   "cell_type": "code",
   "execution_count": 248,
   "id": "c1f9417c-e152-4f92-9c3c-7bc5cd01489e",
   "metadata": {},
   "outputs": [
    {
     "data": {
      "text/plain": [
       "array([6487., 6487., 6487., ..., 6487., 6487., 6487.])"
      ]
     },
     "execution_count": 248,
     "metadata": {},
     "output_type": "execute_result"
    }
   ],
   "source": [
    "y_pred = lr.predict(x_test)\n",
    "y_pred"
   ]
  },
  {
   "cell_type": "code",
   "execution_count": 249,
   "id": "9e17d13e-e1e0-405c-a8c0-e268a19d282b",
   "metadata": {},
   "outputs": [
    {
     "data": {
      "text/html": [
       "<div>\n",
       "<style scoped>\n",
       "    .dataframe tbody tr th:only-of-type {\n",
       "        vertical-align: middle;\n",
       "    }\n",
       "\n",
       "    .dataframe tbody tr th {\n",
       "        vertical-align: top;\n",
       "    }\n",
       "\n",
       "    .dataframe thead th {\n",
       "        text-align: right;\n",
       "    }\n",
       "</style>\n",
       "<table border=\"1\" class=\"dataframe\">\n",
       "  <thead>\n",
       "    <tr style=\"text-align: right;\">\n",
       "      <th></th>\n",
       "      <th>Actual</th>\n",
       "      <th>Predicted</th>\n",
       "    </tr>\n",
       "  </thead>\n",
       "  <tbody>\n",
       "    <tr>\n",
       "      <th>150054</th>\n",
       "      <td>6487</td>\n",
       "      <td>6487.0</td>\n",
       "    </tr>\n",
       "    <tr>\n",
       "      <th>79797</th>\n",
       "      <td>6487</td>\n",
       "      <td>6487.0</td>\n",
       "    </tr>\n",
       "    <tr>\n",
       "      <th>23777</th>\n",
       "      <td>6487</td>\n",
       "      <td>6487.0</td>\n",
       "    </tr>\n",
       "    <tr>\n",
       "      <th>96618</th>\n",
       "      <td>6487</td>\n",
       "      <td>6487.0</td>\n",
       "    </tr>\n",
       "    <tr>\n",
       "      <th>3576</th>\n",
       "      <td>6487</td>\n",
       "      <td>6487.0</td>\n",
       "    </tr>\n",
       "    <tr>\n",
       "      <th>...</th>\n",
       "      <td>...</td>\n",
       "      <td>...</td>\n",
       "    </tr>\n",
       "    <tr>\n",
       "      <th>52445</th>\n",
       "      <td>6487</td>\n",
       "      <td>6487.0</td>\n",
       "    </tr>\n",
       "    <tr>\n",
       "      <th>112361</th>\n",
       "      <td>6487</td>\n",
       "      <td>6487.0</td>\n",
       "    </tr>\n",
       "    <tr>\n",
       "      <th>53287</th>\n",
       "      <td>6487</td>\n",
       "      <td>6487.0</td>\n",
       "    </tr>\n",
       "    <tr>\n",
       "      <th>85861</th>\n",
       "      <td>6487</td>\n",
       "      <td>6487.0</td>\n",
       "    </tr>\n",
       "    <tr>\n",
       "      <th>69487</th>\n",
       "      <td>6487</td>\n",
       "      <td>6487.0</td>\n",
       "    </tr>\n",
       "  </tbody>\n",
       "</table>\n",
       "<p>30175 rows × 2 columns</p>\n",
       "</div>"
      ],
      "text/plain": [
       "        Actual  Predicted\n",
       "150054    6487     6487.0\n",
       "79797     6487     6487.0\n",
       "23777     6487     6487.0\n",
       "96618     6487     6487.0\n",
       "3576      6487     6487.0\n",
       "...        ...        ...\n",
       "52445     6487     6487.0\n",
       "112361    6487     6487.0\n",
       "53287     6487     6487.0\n",
       "85861     6487     6487.0\n",
       "69487     6487     6487.0\n",
       "\n",
       "[30175 rows x 2 columns]"
      ]
     },
     "execution_count": 249,
     "metadata": {},
     "output_type": "execute_result"
    }
   ],
   "source": [
    "result = pd.DataFrame({'Actual': y_test, 'Predicted': y_pred})\n",
    "result"
   ]
  },
  {
   "cell_type": "code",
   "execution_count": 269,
   "id": "9bfa4bcd-15f3-4787-b197-8b64322de9b6",
   "metadata": {},
   "outputs": [],
   "source": [
    "#USING K-NEAREST NEIGHBOUR MODEL\n",
    "\n",
    "\n",
    "#*********************88"
   ]
  },
  {
   "cell_type": "code",
   "execution_count": 250,
   "id": "d3cd1d84-c03a-48c1-9efc-648c00915517",
   "metadata": {},
   "outputs": [
    {
     "name": "stdout",
     "output_type": "stream",
     "text": [
      "R2- SCORE FOR LINEAR REGRESSION: 100.0 %\n"
     ]
    }
   ],
   "source": [
    "#EVALUVATING THE MODEL:\n",
    "from sklearn import metrics\n",
    "lr1 = metrics.r2_score(y_test,y_pred)\n",
    "print('R2- SCORE FOR LINEAR REGRESSION:', round((lr1*100),2),\"%\")"
   ]
  },
  {
   "cell_type": "code",
   "execution_count": 251,
   "id": "0edae3ad-7b4f-4bf1-8f04-a3159afe9989",
   "metadata": {},
   "outputs": [],
   "source": [
    "from sklearn.preprocessing import StandardScaler # importing the required function\n",
    "scaler = StandardScaler() #initialis\n",
    "scaler.fit(x_train) # find the values of mu and sigma\n",
    "X_train = scaler.transform(x_train)\n",
    "X_test = scaler.transform(x_test)"
   ]
  },
  {
   "cell_type": "code",
   "execution_count": 252,
   "id": "a16c3471-43c7-46d8-9ec5-891f41a15f36",
   "metadata": {},
   "outputs": [
    {
     "name": "stdout",
     "output_type": "stream",
     "text": [
      "K value  :  1  score :  1.0\n",
      "K value  :  2  score :  1.0\n",
      "K value  :  3  score :  1.0\n",
      "K value  :  4  score :  1.0\n",
      "K value  :  5  score :  1.0\n",
      "K value  :  6  score :  1.0\n",
      "K value  :  7  score :  1.0\n",
      "K value  :  8  score :  1.0\n",
      "K value  :  9  score :  1.0\n",
      "K value  :  10  score :  1.0\n",
      "K value  :  20  score :  1.0\n",
      "K value  :  40  score :  1.0\n",
      "K value  :  50  score :  1.0\n",
      "K value  :  80  score :  1.0\n",
      "K value  :  100  score :  1.0\n"
     ]
    }
   ],
   "source": [
    "from sklearn.neighbors import KNeighborsRegressor\n",
    "from sklearn import metrics\n",
    "\n",
    "for i in [1,2,3,4,5,6,7,8,9,10,20,40,50,80,100]:\n",
    "  knn = KNeighborsRegressor(i) #initialising the model\n",
    "  knn.fit(X_train,y_train) # training the model\n",
    "  print(\"K value  : \" , i, \" score : \", metrics.r2_score(y_test,y_pred))"
   ]
  },
  {
   "cell_type": "code",
   "execution_count": 253,
   "id": "a37bf009-5f51-4060-bfea-8e2bedea6bc1",
   "metadata": {},
   "outputs": [
    {
     "data": {
      "text/plain": [
       "KNeighborsRegressor()"
      ]
     },
     "execution_count": 253,
     "metadata": {},
     "output_type": "execute_result"
    }
   ],
   "source": [
    "# FITTING THE MODEL\n",
    "\n",
    "from sklearn.neighbors import KNeighborsRegressor\n",
    "KNN=KNeighborsRegressor()\n",
    "KNN.fit(X_train,y_train)"
   ]
  },
  {
   "cell_type": "code",
   "execution_count": 254,
   "id": "43c825df-3ebd-4258-8b95-dc6492b78456",
   "metadata": {},
   "outputs": [
    {
     "data": {
      "text/plain": [
       "array([6487., 6487., 6487., ..., 6487., 6487., 6487.])"
      ]
     },
     "execution_count": 254,
     "metadata": {},
     "output_type": "execute_result"
    }
   ],
   "source": [
    "y_pred_KNN = KNN.predict(X_test)\n",
    "y_pred_KNN"
   ]
  },
  {
   "cell_type": "code",
   "execution_count": 255,
   "id": "ec30fbb8-d3bb-491b-b21b-d94128cd86af",
   "metadata": {},
   "outputs": [
    {
     "data": {
      "text/html": [
       "<div>\n",
       "<style scoped>\n",
       "    .dataframe tbody tr th:only-of-type {\n",
       "        vertical-align: middle;\n",
       "    }\n",
       "\n",
       "    .dataframe tbody tr th {\n",
       "        vertical-align: top;\n",
       "    }\n",
       "\n",
       "    .dataframe thead th {\n",
       "        text-align: right;\n",
       "    }\n",
       "</style>\n",
       "<table border=\"1\" class=\"dataframe\">\n",
       "  <thead>\n",
       "    <tr style=\"text-align: right;\">\n",
       "      <th></th>\n",
       "      <th>Actual</th>\n",
       "      <th>Predicted</th>\n",
       "    </tr>\n",
       "  </thead>\n",
       "  <tbody>\n",
       "    <tr>\n",
       "      <th>150054</th>\n",
       "      <td>6487</td>\n",
       "      <td>6487.0</td>\n",
       "    </tr>\n",
       "    <tr>\n",
       "      <th>79797</th>\n",
       "      <td>6487</td>\n",
       "      <td>6487.0</td>\n",
       "    </tr>\n",
       "    <tr>\n",
       "      <th>23777</th>\n",
       "      <td>6487</td>\n",
       "      <td>6487.0</td>\n",
       "    </tr>\n",
       "    <tr>\n",
       "      <th>96618</th>\n",
       "      <td>6487</td>\n",
       "      <td>6487.0</td>\n",
       "    </tr>\n",
       "    <tr>\n",
       "      <th>3576</th>\n",
       "      <td>6487</td>\n",
       "      <td>6487.0</td>\n",
       "    </tr>\n",
       "    <tr>\n",
       "      <th>...</th>\n",
       "      <td>...</td>\n",
       "      <td>...</td>\n",
       "    </tr>\n",
       "    <tr>\n",
       "      <th>52445</th>\n",
       "      <td>6487</td>\n",
       "      <td>6487.0</td>\n",
       "    </tr>\n",
       "    <tr>\n",
       "      <th>112361</th>\n",
       "      <td>6487</td>\n",
       "      <td>6487.0</td>\n",
       "    </tr>\n",
       "    <tr>\n",
       "      <th>53287</th>\n",
       "      <td>6487</td>\n",
       "      <td>6487.0</td>\n",
       "    </tr>\n",
       "    <tr>\n",
       "      <th>85861</th>\n",
       "      <td>6487</td>\n",
       "      <td>6487.0</td>\n",
       "    </tr>\n",
       "    <tr>\n",
       "      <th>69487</th>\n",
       "      <td>6487</td>\n",
       "      <td>6487.0</td>\n",
       "    </tr>\n",
       "  </tbody>\n",
       "</table>\n",
       "<p>30175 rows × 2 columns</p>\n",
       "</div>"
      ],
      "text/plain": [
       "        Actual  Predicted\n",
       "150054    6487     6487.0\n",
       "79797     6487     6487.0\n",
       "23777     6487     6487.0\n",
       "96618     6487     6487.0\n",
       "3576      6487     6487.0\n",
       "...        ...        ...\n",
       "52445     6487     6487.0\n",
       "112361    6487     6487.0\n",
       "53287     6487     6487.0\n",
       "85861     6487     6487.0\n",
       "69487     6487     6487.0\n",
       "\n",
       "[30175 rows x 2 columns]"
      ]
     },
     "execution_count": 255,
     "metadata": {},
     "output_type": "execute_result"
    }
   ],
   "source": [
    "result_KNN= pd.DataFrame({'Actual': y_test, 'Predicted': y_pred_KNN})\n",
    "result_KNN"
   ]
  },
  {
   "cell_type": "code",
   "execution_count": null,
   "id": "25d6844b-bfc0-4757-83f7-359251791a2c",
   "metadata": {},
   "outputs": [],
   "source": [
    " #RANDOM FOREST MODEL \n",
    "\n",
    "\n",
    "#***************************************"
   ]
  },
  {
   "cell_type": "code",
   "execution_count": 256,
   "id": "48460874-3fb2-41bd-9165-0f9f02ad2f3f",
   "metadata": {},
   "outputs": [
    {
     "data": {
      "text/plain": [
       "RandomForestRegressor(max_depth=10, max_features='sqrt', n_estimators=150)"
      ]
     },
     "execution_count": 256,
     "metadata": {},
     "output_type": "execute_result"
    }
   ],
   "source": [
    "from sklearn.ensemble import RandomForestRegressor\n",
    "from sklearn.metrics import r2_score\n",
    "\n",
    "rf = RandomForestRegressor(n_estimators= 150, max_depth = 10, max_features='sqrt')\n",
    "rf.fit(x_train, y_train)"
   ]
  },
  {
   "cell_type": "code",
   "execution_count": 257,
   "id": "58f37dd8-9442-4c33-932f-176857ee66d9",
   "metadata": {},
   "outputs": [],
   "source": [
    "y_pred_rf = rf.predict(x_test)"
   ]
  },
  {
   "cell_type": "code",
   "execution_count": 258,
   "id": "a3b2cd43-3175-40e1-9bac-175fb7aa6502",
   "metadata": {},
   "outputs": [
    {
     "data": {
      "text/html": [
       "<div>\n",
       "<style scoped>\n",
       "    .dataframe tbody tr th:only-of-type {\n",
       "        vertical-align: middle;\n",
       "    }\n",
       "\n",
       "    .dataframe tbody tr th {\n",
       "        vertical-align: top;\n",
       "    }\n",
       "\n",
       "    .dataframe thead th {\n",
       "        text-align: right;\n",
       "    }\n",
       "</style>\n",
       "<table border=\"1\" class=\"dataframe\">\n",
       "  <thead>\n",
       "    <tr style=\"text-align: right;\">\n",
       "      <th></th>\n",
       "      <th>Actual</th>\n",
       "      <th>Predicted</th>\n",
       "    </tr>\n",
       "  </thead>\n",
       "  <tbody>\n",
       "    <tr>\n",
       "      <th>150054</th>\n",
       "      <td>6487</td>\n",
       "      <td>6487.0</td>\n",
       "    </tr>\n",
       "    <tr>\n",
       "      <th>79797</th>\n",
       "      <td>6487</td>\n",
       "      <td>6487.0</td>\n",
       "    </tr>\n",
       "    <tr>\n",
       "      <th>23777</th>\n",
       "      <td>6487</td>\n",
       "      <td>6487.0</td>\n",
       "    </tr>\n",
       "    <tr>\n",
       "      <th>96618</th>\n",
       "      <td>6487</td>\n",
       "      <td>6487.0</td>\n",
       "    </tr>\n",
       "    <tr>\n",
       "      <th>3576</th>\n",
       "      <td>6487</td>\n",
       "      <td>6487.0</td>\n",
       "    </tr>\n",
       "    <tr>\n",
       "      <th>...</th>\n",
       "      <td>...</td>\n",
       "      <td>...</td>\n",
       "    </tr>\n",
       "    <tr>\n",
       "      <th>52445</th>\n",
       "      <td>6487</td>\n",
       "      <td>6487.0</td>\n",
       "    </tr>\n",
       "    <tr>\n",
       "      <th>112361</th>\n",
       "      <td>6487</td>\n",
       "      <td>6487.0</td>\n",
       "    </tr>\n",
       "    <tr>\n",
       "      <th>53287</th>\n",
       "      <td>6487</td>\n",
       "      <td>6487.0</td>\n",
       "    </tr>\n",
       "    <tr>\n",
       "      <th>85861</th>\n",
       "      <td>6487</td>\n",
       "      <td>6487.0</td>\n",
       "    </tr>\n",
       "    <tr>\n",
       "      <th>69487</th>\n",
       "      <td>6487</td>\n",
       "      <td>6487.0</td>\n",
       "    </tr>\n",
       "  </tbody>\n",
       "</table>\n",
       "<p>30175 rows × 2 columns</p>\n",
       "</div>"
      ],
      "text/plain": [
       "        Actual  Predicted\n",
       "150054    6487     6487.0\n",
       "79797     6487     6487.0\n",
       "23777     6487     6487.0\n",
       "96618     6487     6487.0\n",
       "3576      6487     6487.0\n",
       "...        ...        ...\n",
       "52445     6487     6487.0\n",
       "112361    6487     6487.0\n",
       "53287     6487     6487.0\n",
       "85861     6487     6487.0\n",
       "69487     6487     6487.0\n",
       "\n",
       "[30175 rows x 2 columns]"
      ]
     },
     "execution_count": 258,
     "metadata": {},
     "output_type": "execute_result"
    }
   ],
   "source": [
    "result_rf= pd.DataFrame({'Actual': y_test, 'Predicted': y_pred_rf})\n",
    "result_rf"
   ]
  },
  {
   "cell_type": "code",
   "execution_count": 271,
   "id": "109953b3-5763-49d0-993b-4cf3ea44bbd1",
   "metadata": {},
   "outputs": [],
   "source": [
    "#XG-BOOST MODEL\n",
    "\n",
    "\n",
    "\n",
    "#******************************************88"
   ]
  },
  {
   "cell_type": "code",
   "execution_count": 259,
   "id": "0a5695fd-33ba-4859-a0b5-7798cd82080f",
   "metadata": {},
   "outputs": [
    {
     "name": "stdout",
     "output_type": "stream",
     "text": [
      "Learning rate :  0.01  Train score :  0.0  Cross-Val score :  0.0\n",
      "Learning rate :  0.02  Train score :  0.0  Cross-Val score :  0.0\n",
      "Learning rate :  0.03  Train score :  0.0  Cross-Val score :  0.0\n",
      "Learning rate :  0.04  Train score :  0.0  Cross-Val score :  0.0\n",
      "Learning rate :  0.05  Train score :  0.0  Cross-Val score :  0.0\n",
      "Learning rate :  0.1  Train score :  0.0  Cross-Val score :  0.0\n",
      "Learning rate :  0.11  Train score :  0.0  Cross-Val score :  0.0\n",
      "Learning rate :  0.12  Train score :  0.0  Cross-Val score :  0.0\n",
      "Learning rate :  0.13  Train score :  0.0  Cross-Val score :  0.0\n",
      "Learning rate :  0.14  Train score :  0.0  Cross-Val score :  0.0\n",
      "Learning rate :  0.15  Train score :  0.0  Cross-Val score :  0.0\n",
      "Learning rate :  0.2  Train score :  0.0  Cross-Val score :  0.0\n",
      "Learning rate :  0.5  Train score :  0.0  Cross-Val score :  0.0\n",
      "Learning rate :  0.7  Train score :  1.0  Cross-Val score :  1.0\n",
      "Learning rate :  1  Train score :  1.0  Cross-Val score :  1.0\n"
     ]
    }
   ],
   "source": [
    "import xgboost as xgb\n",
    "from sklearn.model_selection import cross_val_score\n",
    "import numpy as np\n",
    "for lr in [0.01,0.02,0.03,0.04,0.05,0.1,0.11,0.12,0.13,0.14,0.15,0.2,0.5,0.7,1]:\n",
    "  model = xgb.XGBRegressor(learning_rate = lr, n_estimators=100, verbosity = 0) # initialise the model\n",
    "  model.fit(x_train,y_train) #train the model\n",
    "  model.score(x_test, y_test) # scoring the model - r2 squared\n",
    "  print(\"Learning rate : \", lr, \" Train score : \", model.score(x_train,y_train), \" Cross-Val score : \", np.mean(cross_val_score(model, x_train, y_train)))"
   ]
  },
  {
   "cell_type": "code",
   "execution_count": 260,
   "id": "7bce8386-e428-4846-8093-09c31993033e",
   "metadata": {},
   "outputs": [
    {
     "data": {
      "text/plain": [
       "1.0"
      ]
     },
     "execution_count": 260,
     "metadata": {},
     "output_type": "execute_result"
    }
   ],
   "source": [
    "xg_model = xgb.XGBRegressor(learning_rate = 0.7, n_estimators=100, verbosity = 0)\n",
    "xg_model.fit(x_train,y_train) #train the model\n",
    "xg_model.score(x_test, y_test) # scoring the model - r2 squared"
   ]
  },
  {
   "cell_type": "code",
   "execution_count": 261,
   "id": "6b3e0928-1433-41cb-877d-19af8e9d1450",
   "metadata": {},
   "outputs": [],
   "source": [
    "XG_pred= model.predict(x_test)"
   ]
  },
  {
   "cell_type": "code",
   "execution_count": 262,
   "id": "4534dc1a-fd79-486f-b601-0ba8441bb18a",
   "metadata": {},
   "outputs": [
    {
     "data": {
      "text/html": [
       "<div>\n",
       "<style scoped>\n",
       "    .dataframe tbody tr th:only-of-type {\n",
       "        vertical-align: middle;\n",
       "    }\n",
       "\n",
       "    .dataframe tbody tr th {\n",
       "        vertical-align: top;\n",
       "    }\n",
       "\n",
       "    .dataframe thead th {\n",
       "        text-align: right;\n",
       "    }\n",
       "</style>\n",
       "<table border=\"1\" class=\"dataframe\">\n",
       "  <thead>\n",
       "    <tr style=\"text-align: right;\">\n",
       "      <th></th>\n",
       "      <th>Actual</th>\n",
       "      <th>Predicted</th>\n",
       "    </tr>\n",
       "  </thead>\n",
       "  <tbody>\n",
       "    <tr>\n",
       "      <th>150054</th>\n",
       "      <td>6487</td>\n",
       "      <td>6487.0</td>\n",
       "    </tr>\n",
       "    <tr>\n",
       "      <th>79797</th>\n",
       "      <td>6487</td>\n",
       "      <td>6487.0</td>\n",
       "    </tr>\n",
       "    <tr>\n",
       "      <th>23777</th>\n",
       "      <td>6487</td>\n",
       "      <td>6487.0</td>\n",
       "    </tr>\n",
       "    <tr>\n",
       "      <th>96618</th>\n",
       "      <td>6487</td>\n",
       "      <td>6487.0</td>\n",
       "    </tr>\n",
       "    <tr>\n",
       "      <th>3576</th>\n",
       "      <td>6487</td>\n",
       "      <td>6487.0</td>\n",
       "    </tr>\n",
       "    <tr>\n",
       "      <th>...</th>\n",
       "      <td>...</td>\n",
       "      <td>...</td>\n",
       "    </tr>\n",
       "    <tr>\n",
       "      <th>52445</th>\n",
       "      <td>6487</td>\n",
       "      <td>6487.0</td>\n",
       "    </tr>\n",
       "    <tr>\n",
       "      <th>112361</th>\n",
       "      <td>6487</td>\n",
       "      <td>6487.0</td>\n",
       "    </tr>\n",
       "    <tr>\n",
       "      <th>53287</th>\n",
       "      <td>6487</td>\n",
       "      <td>6487.0</td>\n",
       "    </tr>\n",
       "    <tr>\n",
       "      <th>85861</th>\n",
       "      <td>6487</td>\n",
       "      <td>6487.0</td>\n",
       "    </tr>\n",
       "    <tr>\n",
       "      <th>69487</th>\n",
       "      <td>6487</td>\n",
       "      <td>6487.0</td>\n",
       "    </tr>\n",
       "  </tbody>\n",
       "</table>\n",
       "<p>30175 rows × 2 columns</p>\n",
       "</div>"
      ],
      "text/plain": [
       "        Actual  Predicted\n",
       "150054    6487     6487.0\n",
       "79797     6487     6487.0\n",
       "23777     6487     6487.0\n",
       "96618     6487     6487.0\n",
       "3576      6487     6487.0\n",
       "...        ...        ...\n",
       "52445     6487     6487.0\n",
       "112361    6487     6487.0\n",
       "53287     6487     6487.0\n",
       "85861     6487     6487.0\n",
       "69487     6487     6487.0\n",
       "\n",
       "[30175 rows x 2 columns]"
      ]
     },
     "execution_count": 262,
     "metadata": {},
     "output_type": "execute_result"
    }
   ],
   "source": [
    "result_XG= pd.DataFrame({\"Actual\": y_test, \"Predicted\": XG_pred})\n",
    "result_XG"
   ]
  },
  {
   "cell_type": "code",
   "execution_count": 264,
   "id": "a861c043-8b27-4b88-94ba-65307bba5107",
   "metadata": {},
   "outputs": [
    {
     "name": "stdout",
     "output_type": "stream",
     "text": [
      "R2- SCORE FOR XG-BOOST MODEL: 100.0 %\n"
     ]
    }
   ],
   "source": [
    "from sklearn import metrics\n",
    "XG1 = metrics.r2_score(y_test,XG_pred)\n",
    "print('R2- SCORE FOR XG-BOOST MODEL:', round((XG1*100),2),\"%\")"
   ]
  },
  {
   "cell_type": "code",
   "execution_count": null,
   "id": "002895d4-ef49-4241-98a3-534c44227e81",
   "metadata": {},
   "outputs": [],
   "source": [
    "#FINISH THE MODEL\n",
    "\n",
    "\n",
    "********************************************************************************************************************************************************"
   ]
  }
 ],
 "metadata": {
  "kernelspec": {
   "display_name": "Python 3 (ipykernel)",
   "language": "python",
   "name": "python3"
  },
  "language_info": {
   "codemirror_mode": {
    "name": "ipython",
    "version": 3
   },
   "file_extension": ".py",
   "mimetype": "text/x-python",
   "name": "python",
   "nbconvert_exporter": "python",
   "pygments_lexer": "ipython3",
   "version": "3.10.7"
  }
 },
 "nbformat": 4,
 "nbformat_minor": 5
}
